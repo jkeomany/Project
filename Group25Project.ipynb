{
  "nbformat": 4,
  "nbformat_minor": 0,
  "metadata": {
    "colab": {
      "provenance": [],
      "include_colab_link": true
    },
    "kernelspec": {
      "name": "python3",
      "display_name": "Python 3"
    },
    "language_info": {
      "name": "python"
    }
  },
  "cells": [
    {
      "cell_type": "markdown",
      "metadata": {
        "id": "view-in-github",
        "colab_type": "text"
      },
      "source": [
        "<a href=\"https://colab.research.google.com/github/jkeomany/Project/blob/main/Group25Project.ipynb\" target=\"_parent\"><img src=\"https://colab.research.google.com/assets/colab-badge.svg\" alt=\"Open In Colab\"/></a>"
      ]
    },
    {
      "cell_type": "markdown",
      "source": [
        "Introduction"
      ],
      "metadata": {
        "id": "ud70SVWr_-jC"
      }
    },
    {
      "cell_type": "markdown",
      "source": [
        "Household spending is a key indicator of economic health and a critical factor in shaping the direction of the economy. It refers to the amount of money that individuals or families spend on goods and services to meet their daily needs and wants. It includes all types of purchases made by household, such as food, clothing, housing, transportation, health care, education and other expenses. It represents a significant portion of consumer demand and drives economic growth. When households have more money to spend, they will increase their expenses and lead to increased economic activity and job creation. It is really important to study for our economy. \n",
        "\n",
        "In this paper, we aim to analyze the how household spending changes overtime using ordinary least squares (OLS) model. Our goal is to study and examine the spending patterns and how purchasing power differs in different areas, such as food, shelter, Transportation, income tax. We believe the model can help researchers and policymakers better understand consumer behaviors, which can also inform marketing strategies and product development.\n",
        "\n",
        "In the following section, we will discuss the data sources and variables used in our analysis and followed by the methodology for estimating the OLS model. Then, we will present the results of our analysis, including the coefficients of the model, measures of goodness-of-fit, and statistical significance. We will interpret these results and provide insights into the key findings of the study. \n",
        "\n",
        "Finally, we will discuss the implications of our findings for the economic policy, businesses decisions, and possible future research in the conclusion section. Overall, this paper aims to focus on the relationship between household spending and employment by industry and provide valuable insights for policymakers, businesses, and investors. \n"
      ],
      "metadata": {
        "id": "kPEk7PbFAmlO"
      }
    },
    {
      "cell_type": "markdown",
      "source": [
        "Data:\n",
        "\n",
        "In this section, we will describe the data sources and variables used in our analysis. All our data are from Statistics Canada for the period 2010 to 2019. The data set includes information on total household expenditures, and household expenditures on food, shelter, transportation, and income tax.\n",
        "\n",
        "Our primary independent variable is year that between 2010 and 2019. And our dependent variable is household expenditures as well as household expenditures in food, shelter, transportation, and income tax. To aviod multicorrelation problem, we will create multiple regression models for our analyze.  \n",
        "\n",
        "The following table provides a descriptive statistic for the key variables used in our analysis. (Table placeholder, Information will be filled later)\n",
        "\n"
      ],
      "metadata": {
        "id": "CdoyS1vBG4ec"
      }
    },
    {
      "cell_type": "markdown",
      "source": [
        "*Modelling*"
      ],
      "metadata": {
        "id": "ceYAGAOtAFFF"
      }
    },
    {
      "cell_type": "markdown",
      "source": [
        "The data was prepared was good quality but required some data cleaning. Some steps that were taken to clean the data was dropping unnecessary columns. Columns such as GEO data were not needed as all the locations were already determined to be Canada. Next the column names were changed to be more short and clear.  \n",
        "To prepare the data for analysis, the data was imported as a dataframe using pandas. Scikitlearn was used for its LinearRegression tool to quickly get the predicted spending of Canadian's per year. One challenge that was faced was loading the dataframe into Google Colab. I learned that Colab can accept data from Github so I created a variable that linked to my dataset. I also had trouble plotting the data. The y label kept bleeding into other subplots. I learned that the adjust function can allow you to create whitespace between subplots. "
      ],
      "metadata": {
        "id": "7W_kxa6mleAr"
      }
    },
    {
      "cell_type": "markdown",
      "source": [
        "The model created is a predictive model for expenditure. The annual average expenditure for each topic such as food or shelter is graphed on a scatterplot. Scikitlearn is used to get the y predicted value. The linear regression works very well as the R^2 value is all above 0.8m showing a strong correlation for all topics."
      ],
      "metadata": {
        "id": "Xn5opBTy2EJf"
      }
    },
    {
      "cell_type": "markdown",
      "source": [
        "The following modelling was completed to determine if there is "
      ],
      "metadata": {
        "id": "WpcoO1PekLpG"
      }
    },
    {
      "cell_type": "code",
      "source": [
        "import pandas as pd\n",
        "import numpy as np\n",
        "\n",
        "# Canadian Data \n",
        "# https://www150.statcan.gc.ca/t1/tbl1/en/tv.action?pid=1110022201\n",
        "# Import and clean the data set\n",
        "url_can = \"https://raw.githubusercontent.com/jkeomany/Project/main/can_data.csv\"\n",
        "df_can = pd.read_csv(url_can)\n",
        "\n",
        "## Make a list of columns to drop\n",
        "drop_list = ['GEO','DGUID','Statistic','UOM','UOM_ID','SCALAR_FACTOR','SCALAR_ID','VECTOR','COORDINATE','STATUS','SYMBOL','TERMINATED','DECIMALS']\n",
        "## The columns in drop list were removed from the statistical analysis because the columns did not provide value for the regression model and was not informative.\n",
        "\n",
        "## Make the Canadian household expenditures dataframe\n",
        "df_can = df_can.drop(drop_list, axis=1)\n",
        "\n",
        "## Rename long and unclear column names\n",
        "df_can.rename(columns={\"Household expenditures, summary-level categories\": \"HOUSEHOLD EXPENDITURE\"}, inplace=True)\n",
        "\n",
        "df_can.head()"
      ],
      "metadata": {
        "colab": {
          "base_uri": "https://localhost:8080/",
          "height": 206
        },
        "id": "I4Q9O1cK6216",
        "outputId": "6d0458d1-edee-483d-cf53-9d24499c624a"
      },
      "execution_count": null,
      "outputs": [
        {
          "output_type": "execute_result",
          "data": {
            "text/plain": [
              "   REF_DATE HOUSEHOLD EXPENDITURE  VALUE\n",
              "0      2010     Total expenditure  72075\n",
              "1      2011     Total expenditure  73646\n",
              "2      2012     Total expenditure  75695\n",
              "3      2013     Total expenditure  79098\n",
              "4      2014     Total expenditure  80727"
            ],
            "text/html": [
              "\n",
              "  <div id=\"df-3c9903b9-627c-4df0-b56c-4a56fdf666fe\">\n",
              "    <div class=\"colab-df-container\">\n",
              "      <div>\n",
              "<style scoped>\n",
              "    .dataframe tbody tr th:only-of-type {\n",
              "        vertical-align: middle;\n",
              "    }\n",
              "\n",
              "    .dataframe tbody tr th {\n",
              "        vertical-align: top;\n",
              "    }\n",
              "\n",
              "    .dataframe thead th {\n",
              "        text-align: right;\n",
              "    }\n",
              "</style>\n",
              "<table border=\"1\" class=\"dataframe\">\n",
              "  <thead>\n",
              "    <tr style=\"text-align: right;\">\n",
              "      <th></th>\n",
              "      <th>REF_DATE</th>\n",
              "      <th>HOUSEHOLD EXPENDITURE</th>\n",
              "      <th>VALUE</th>\n",
              "    </tr>\n",
              "  </thead>\n",
              "  <tbody>\n",
              "    <tr>\n",
              "      <th>0</th>\n",
              "      <td>2010</td>\n",
              "      <td>Total expenditure</td>\n",
              "      <td>72075</td>\n",
              "    </tr>\n",
              "    <tr>\n",
              "      <th>1</th>\n",
              "      <td>2011</td>\n",
              "      <td>Total expenditure</td>\n",
              "      <td>73646</td>\n",
              "    </tr>\n",
              "    <tr>\n",
              "      <th>2</th>\n",
              "      <td>2012</td>\n",
              "      <td>Total expenditure</td>\n",
              "      <td>75695</td>\n",
              "    </tr>\n",
              "    <tr>\n",
              "      <th>3</th>\n",
              "      <td>2013</td>\n",
              "      <td>Total expenditure</td>\n",
              "      <td>79098</td>\n",
              "    </tr>\n",
              "    <tr>\n",
              "      <th>4</th>\n",
              "      <td>2014</td>\n",
              "      <td>Total expenditure</td>\n",
              "      <td>80727</td>\n",
              "    </tr>\n",
              "  </tbody>\n",
              "</table>\n",
              "</div>\n",
              "      <button class=\"colab-df-convert\" onclick=\"convertToInteractive('df-3c9903b9-627c-4df0-b56c-4a56fdf666fe')\"\n",
              "              title=\"Convert this dataframe to an interactive table.\"\n",
              "              style=\"display:none;\">\n",
              "        \n",
              "  <svg xmlns=\"http://www.w3.org/2000/svg\" height=\"24px\"viewBox=\"0 0 24 24\"\n",
              "       width=\"24px\">\n",
              "    <path d=\"M0 0h24v24H0V0z\" fill=\"none\"/>\n",
              "    <path d=\"M18.56 5.44l.94 2.06.94-2.06 2.06-.94-2.06-.94-.94-2.06-.94 2.06-2.06.94zm-11 1L8.5 8.5l.94-2.06 2.06-.94-2.06-.94L8.5 2.5l-.94 2.06-2.06.94zm10 10l.94 2.06.94-2.06 2.06-.94-2.06-.94-.94-2.06-.94 2.06-2.06.94z\"/><path d=\"M17.41 7.96l-1.37-1.37c-.4-.4-.92-.59-1.43-.59-.52 0-1.04.2-1.43.59L10.3 9.45l-7.72 7.72c-.78.78-.78 2.05 0 2.83L4 21.41c.39.39.9.59 1.41.59.51 0 1.02-.2 1.41-.59l7.78-7.78 2.81-2.81c.8-.78.8-2.07 0-2.86zM5.41 20L4 18.59l7.72-7.72 1.47 1.35L5.41 20z\"/>\n",
              "  </svg>\n",
              "      </button>\n",
              "      \n",
              "  <style>\n",
              "    .colab-df-container {\n",
              "      display:flex;\n",
              "      flex-wrap:wrap;\n",
              "      gap: 12px;\n",
              "    }\n",
              "\n",
              "    .colab-df-convert {\n",
              "      background-color: #E8F0FE;\n",
              "      border: none;\n",
              "      border-radius: 50%;\n",
              "      cursor: pointer;\n",
              "      display: none;\n",
              "      fill: #1967D2;\n",
              "      height: 32px;\n",
              "      padding: 0 0 0 0;\n",
              "      width: 32px;\n",
              "    }\n",
              "\n",
              "    .colab-df-convert:hover {\n",
              "      background-color: #E2EBFA;\n",
              "      box-shadow: 0px 1px 2px rgba(60, 64, 67, 0.3), 0px 1px 3px 1px rgba(60, 64, 67, 0.15);\n",
              "      fill: #174EA6;\n",
              "    }\n",
              "\n",
              "    [theme=dark] .colab-df-convert {\n",
              "      background-color: #3B4455;\n",
              "      fill: #D2E3FC;\n",
              "    }\n",
              "\n",
              "    [theme=dark] .colab-df-convert:hover {\n",
              "      background-color: #434B5C;\n",
              "      box-shadow: 0px 1px 3px 1px rgba(0, 0, 0, 0.15);\n",
              "      filter: drop-shadow(0px 1px 2px rgba(0, 0, 0, 0.3));\n",
              "      fill: #FFFFFF;\n",
              "    }\n",
              "  </style>\n",
              "\n",
              "      <script>\n",
              "        const buttonEl =\n",
              "          document.querySelector('#df-3c9903b9-627c-4df0-b56c-4a56fdf666fe button.colab-df-convert');\n",
              "        buttonEl.style.display =\n",
              "          google.colab.kernel.accessAllowed ? 'block' : 'none';\n",
              "\n",
              "        async function convertToInteractive(key) {\n",
              "          const element = document.querySelector('#df-3c9903b9-627c-4df0-b56c-4a56fdf666fe');\n",
              "          const dataTable =\n",
              "            await google.colab.kernel.invokeFunction('convertToInteractive',\n",
              "                                                     [key], {});\n",
              "          if (!dataTable) return;\n",
              "\n",
              "          const docLinkHtml = 'Like what you see? Visit the ' +\n",
              "            '<a target=\"_blank\" href=https://colab.research.google.com/notebooks/data_table.ipynb>data table notebook</a>'\n",
              "            + ' to learn more about interactive tables.';\n",
              "          element.innerHTML = '';\n",
              "          dataTable['output_type'] = 'display_data';\n",
              "          await google.colab.output.renderOutput(dataTable, element);\n",
              "          const docLink = document.createElement('div');\n",
              "          docLink.innerHTML = docLinkHtml;\n",
              "          element.appendChild(docLink);\n",
              "        }\n",
              "      </script>\n",
              "    </div>\n",
              "  </div>\n",
              "  "
            ]
          },
          "metadata": {},
          "execution_count": 2
        }
      ]
    },
    {
      "cell_type": "code",
      "source": [
        "# Choose Spending Areas\n",
        "\n",
        "## Total expenditures\n",
        "can_total = df_can.drop('HOUSEHOLD EXPENDITURE', axis=1)[0:9]\n",
        "#print(can_total)\n",
        "\n",
        "## Food\n",
        "can_food = df_can.drop('HOUSEHOLD EXPENDITURE', axis=1)[df_can['HOUSEHOLD EXPENDITURE']=='Food expenditures']\n",
        "#print(can_food)\n",
        "\n",
        "## Shelter\n",
        "can_shelter = df_can.drop('HOUSEHOLD EXPENDITURE', axis=1)[df_can['HOUSEHOLD EXPENDITURE']=='Shelter']\n",
        "#print(can_shelter)\n",
        "\n",
        "## Transportation\n",
        "can_transport = df_can.drop('HOUSEHOLD EXPENDITURE', axis=1)[df_can['HOUSEHOLD EXPENDITURE']=='Transportation']\n",
        "#print(can_transport)\n",
        "\n",
        "## Income Tax\n",
        "can_tax = df_can.drop('HOUSEHOLD EXPENDITURE', axis=1)[df_can['HOUSEHOLD EXPENDITURE']=='Income taxes']\n",
        "#print(can_tax)"
      ],
      "metadata": {
        "id": "ZGtPd6tM5tmD"
      },
      "execution_count": null,
      "outputs": []
    },
    {
      "cell_type": "code",
      "source": [
        "# Data Discripution\n",
        "\n",
        "## Total expenditures\n",
        "total_count = can_total['VALUE'].count()\n",
        "print('Total number of Total Expenditures:', total_count)\n",
        "\n",
        "total_sum = can_total['VALUE'].sum()\n",
        "print('Total sum of Total Expenditures:', total_sum)\n",
        "\n",
        "total_avg = can_total['VALUE'].mean()\n",
        "print('Average Total Expenditures:', total_avg)\n",
        "\n",
        "## Food \n",
        "total_count_food = can_food['VALUE'].count()\n",
        "print('Total number of Total Expenditures:', total_count_food)\n",
        "\n",
        "total_sum_food = can_food['VALUE'].sum()\n",
        "print('Total sum of Total Expenditures:', total_sum_food)\n",
        "\n",
        "total_avg_food = can_food['VALUE'].mean()\n",
        "print('Average Total Expenditures:', total_avg_food)\n",
        "\n",
        "## Shelter\n",
        "total_count_shelter = can_shelter['VALUE'].count()\n",
        "print('Total number of Total Expenditures:', total_count_shelter)\n",
        "\n",
        "total_sum_shelter = can_shelter['VALUE'].sum()\n",
        "print('Total sum of Total Expenditures:', total_sum_shelter)\n",
        "\n",
        "total_avg_shelter = can_shelter['VALUE'].mean()\n",
        "print('Average Total Expenditures:', total_avg_shelter)\n",
        "\n",
        "## Transportation\n",
        "total_count_transport = can_transport['VALUE'].count()\n",
        "print('Total number of Total Expenditures:', total_count_transport)\n",
        "\n",
        "total_sum_transport = can_transport['VALUE'].sum()\n",
        "print('Total sum of Total Expenditures:', total_sum_transport)\n",
        "\n",
        "total_avg_transport = can_transport['VALUE'].mean()\n",
        "print('Average Total Expenditures:', total_avg_transport)\n",
        "\n",
        "## Income Tax\n",
        "total_count_tax = can_tax['VALUE'].count()\n",
        "print('Total number of Total Expenditures:', total_count_tax)\n",
        "\n",
        "total_sum_tax = can_tax['VALUE'].sum()\n",
        "print('Total sum of Total Expenditures:', total_sum_tax)\n",
        "\n",
        "total_avg_tax = can_tax['VALUE'].mean()\n",
        "print('Average Total Expenditures:', total_avg_tax)"
      ],
      "metadata": {
        "colab": {
          "base_uri": "https://localhost:8080/"
        },
        "id": "s2WlMBxmpmGA",
        "outputId": "845f0b62-38ae-45b9-de03-0b2d9e259229"
      },
      "execution_count": null,
      "outputs": [
        {
          "output_type": "stream",
          "name": "stdout",
          "text": [
            "Total number of Total Expenditures: 9\n",
            "Total sum of Total Expenditures: 728630\n",
            "Average Total Expenditures: 80958.88888888889\n",
            "Total number of Total Expenditures: 9\n",
            "Total sum of Total Expenditures: 76136\n",
            "Average Total Expenditures: 8459.555555555555\n",
            "Total number of Total Expenditures: 9\n",
            "Total sum of Total Expenditures: 153944\n",
            "Average Total Expenditures: 17104.88888888889\n",
            "Total number of Total Expenditures: 9\n",
            "Total sum of Total Expenditures: 106683\n",
            "Average Total Expenditures: 11853.666666666666\n",
            "Total number of Total Expenditures: 9\n",
            "Total sum of Total Expenditures: 130038\n",
            "Average Total Expenditures: 14448.666666666666\n"
          ]
        }
      ]
    },
    {
      "cell_type": "code",
      "source": [
        "# Create an OLS regression\n",
        "from sklearn.linear_model import LinearRegression\n",
        "\n",
        "## Total Expenditures\n",
        "can_totalx = can_total['REF_DATE'].to_numpy().reshape((-1,1))\n",
        "can_totaly = can_total['VALUE'].to_numpy()\n",
        "total_model = LinearRegression().fit(can_totalx, can_totaly)\n",
        "total_rsq = total_model.score(can_totalx, can_totaly)\n",
        "total_intercept = total_model.intercept_\n",
        "total_coef = total_model.coef_\n",
        "total_ypred = total_model.predict(can_totalx)\n",
        "print('total',total_rsq)\n",
        "\n",
        "## Food\n",
        "can_foodx = can_food['REF_DATE'].to_numpy().reshape((-1,1))\n",
        "can_foody= can_food['VALUE'].to_numpy()\n",
        "food_model = LinearRegression().fit(can_foodx, can_foody)\n",
        "food_rsq = food_model.score(can_foodx, can_foody)\n",
        "food_intercept = food_model.intercept_\n",
        "food_coef = food_model.coef_\n",
        "food_ypred = food_model.predict(can_foodx)\n",
        "print('food',food_rsq)\n",
        "\n",
        "## Shelter\n",
        "can_shelterx = can_shelter['REF_DATE'].to_numpy().reshape((-1,1))\n",
        "can_sheltery= can_shelter['VALUE'].to_numpy()\n",
        "shelter_model = LinearRegression().fit(can_shelterx, can_sheltery)\n",
        "shelter_rsq = shelter_model.score(can_shelterx, can_sheltery)\n",
        "shelter_intercept = shelter_model.intercept_\n",
        "shelter_coef = shelter_model.coef_\n",
        "shelter_ypred = shelter_model.predict(can_shelterx)\n",
        "print('shelter',shelter_rsq)\n",
        "\n",
        "## Transportation\n",
        "can_transportx = can_transport['REF_DATE'].to_numpy().reshape((-1,1))\n",
        "can_transporty= can_transport['VALUE'].to_numpy()\n",
        "transport_model = LinearRegression().fit(can_transportx, can_transporty)\n",
        "transport_rsq = transport_model.score(can_transportx, can_transporty)\n",
        "transport_intercept = transport_model.intercept_\n",
        "transport_coef = transport_model.coef_\n",
        "transport_ypred = transport_model.predict(can_transportx)\n",
        "print('transport',transport_rsq)\n",
        "\n",
        "## Income Tax\n",
        "can_taxx = can_tax['REF_DATE'].to_numpy().reshape((-1,1))\n",
        "can_taxy= can_tax['VALUE'].to_numpy()\n",
        "tax_model = LinearRegression().fit(can_taxx, can_taxy)\n",
        "tax_rsq = tax_model.score(can_taxx, can_taxy)\n",
        "tax_intercept = tax_model.intercept_\n",
        "tax_coef = tax_model.coef_\n",
        "tax_ypred = tax_model.predict(can_taxx)\n",
        "print('tax',tax_rsq)\n"
      ],
      "metadata": {
        "colab": {
          "base_uri": "https://localhost:8080/"
        },
        "id": "rMPuxT0lr4wj",
        "outputId": "d7ad8023-1f9d-445c-d120-20391d467c93"
      },
      "execution_count": null,
      "outputs": [
        {
          "output_type": "stream",
          "name": "stdout",
          "text": [
            "total 0.9856932818200037\n",
            "food 0.8480160664926918\n",
            "shelter 0.9890364816254562\n",
            "transport 0.8254387565199827\n",
            "tax 0.9358421630873699\n"
          ]
        }
      ]
    },
    {
      "cell_type": "code",
      "source": [
        "# Graph Canadian Models\n",
        "\n",
        "import seaborn as sns\n",
        "import matplotlib.pyplot as plt\n",
        "import matplotlib as mpl\n",
        "\n",
        "## Create a subplot for the total spending and \n",
        "fig, (ax1,ax2) = plt.subplots(nrows=1, ncols=2, figsize=(10, 4))\n",
        "\n",
        "## Adjust the subplot layout parameters\n",
        "fig.subplots_adjust(hspace=0.125, wspace=0.3)\n",
        "\n",
        "## Graph total household spending\n",
        "ax1.plot(can_total.REF_DATE,can_total.VALUE,'o',color='blue')\n",
        "ax1.plot(can_totalx,total_ypred,'-',color='blue')\n",
        "ax1.title.set_text('Total Household Spending')\n",
        "ax1.set_xlabel('Years')\n",
        "ax1.set_ylabel('Spending ($)')\n",
        "\n",
        "## Graph food spending\n",
        "ax2.plot(can_food.REF_DATE,can_food.VALUE,'o',color='red',label='Food')\n",
        "ax2.plot(can_foodx,food_ypred,'-',color='red')\n",
        "\n",
        "## Graph shelter spending\n",
        "ax2.plot(can_shelter.REF_DATE,can_shelter.VALUE,'o',color='brown',label='Shelter')\n",
        "ax2.plot(can_shelterx,shelter_ypred,'-',color='brown')\n",
        "\n",
        "## Graph transportation spending\n",
        "ax2.plot(can_transport.REF_DATE,can_transport.VALUE,'o',color='grey',label='Transportation')\n",
        "ax2.plot(can_transportx,transport_ypred,'-',color='grey')\n",
        "\n",
        "## Graph income tax spending\n",
        "ax2.plot(can_tax.REF_DATE,can_tax.VALUE,'o',color='green',label='Income Tax')\n",
        "ax2.plot(can_taxx,tax_ypred,'-',color='green')\n",
        "\n",
        "ax2.title.set_text('Household Spending Breakdown')\n",
        "ax2.set_xlabel('Years')\n",
        "ax2.set_ylabel('Spending ($)')\n",
        "ax2.legend()"
      ],
      "metadata": {
        "id": "DO-1R6DwvaJg",
        "colab": {
          "base_uri": "https://localhost:8080/",
          "height": 427
        },
        "outputId": "2c98ac96-373f-4f78-a287-fb715bb9f994"
      },
      "execution_count": null,
      "outputs": [
        {
          "output_type": "execute_result",
          "data": {
            "text/plain": [
              "<matplotlib.legend.Legend at 0x7fb5907a5fa0>"
            ]
          },
          "metadata": {},
          "execution_count": 29
        },
        {
          "output_type": "display_data",
          "data": {
            "text/plain": [
              "<Figure size 1000x400 with 2 Axes>"
            ],
            "image/png": "[encoded data removed]"
          },
          "metadata": {}
        }
      ]
    },
    {
      "cell_type": "code",
      "source": [],
      "metadata": {
        "id": "v1vzoglQhGbn"
      },
      "execution_count": null,
      "outputs": []
    },
    {
      "cell_type": "code",
      "source": [],
      "metadata": {
        "id": "DvkE4ZT0hs6N"
      },
      "execution_count": null,
      "outputs": []
    },
    {
      "cell_type": "code",
      "source": [],
      "metadata": {
        "id": "i5Ldfp0-zL9-"
      },
      "execution_count": null,
      "outputs": []
    },
    {
      "cell_type": "markdown",
      "source": [
        "Result"
      ],
      "metadata": {
        "id": "Xkn3Sj77AHFd"
      }
    },
    {
      "cell_type": "code",
      "source": [
        "# OLS Summary result \n",
        "\n",
        "## Total Expenditures\n",
        "\n",
        "import statsmodels.api as sm\n",
        "\n",
        "can_totalx = can_total['REF_DATE']\n",
        "can_totaly = can_total['VALUE']\n",
        "can_totalx = sm.add_constant(can_totalx)\n",
        "total_model = sm.OLS(can_totaly, can_totalx).fit()\n",
        "print(total_model.summary())"
      ],
      "metadata": {
        "colab": {
          "base_uri": "https://localhost:8080/"
        },
        "id": "e56G3l9otUqo",
        "outputId": "cfabd0dd-0429-4db7-c8c9-93782948d514"
      },
      "execution_count": null,
      "outputs": [
        {
          "output_type": "stream",
          "name": "stdout",
          "text": [
            "                            OLS Regression Results                            \n",
            "==============================================================================\n",
            "Dep. Variable:                  VALUE   R-squared:                       0.986\n",
            "Model:                            OLS   Adj. R-squared:                  0.984\n",
            "Method:                 Least Squares   F-statistic:                     482.3\n",
            "Date:                Sat, 15 Apr 2023   Prob (F-statistic):           1.03e-07\n",
            "Time:                        21:02:42   Log-Likelihood:                -72.583\n",
            "No. Observations:                   9   AIC:                             149.2\n",
            "Df Residuals:                       7   BIC:                             149.6\n",
            "Df Model:                           1                                         \n",
            "Covariance Type:            nonrobust                                         \n",
            "==============================================================================\n",
            "                 coef    std err          t      P>|t|      [0.025      0.975]\n",
            "------------------------------------------------------------------------------\n",
            "const      -4.569e+06   2.12e+05    -21.579      0.000   -5.07e+06   -4.07e+06\n",
            "REF_DATE    2308.7484    105.130     21.961      0.000    2060.155    2557.341\n",
            "==============================================================================\n",
            "Omnibus:                        0.478   Durbin-Watson:                   1.812\n",
            "Prob(Omnibus):                  0.787   Jarque-Bera (JB):                0.393\n",
            "Skew:                           0.394   Prob(JB):                        0.822\n",
            "Kurtosis:                       2.348   Cond. No.                     1.47e+06\n",
            "==============================================================================\n",
            "\n",
            "Notes:\n",
            "[1] Standard Errors assume that the covariance matrix of the errors is correctly specified.\n",
            "[2] The condition number is large, 1.47e+06. This might indicate that there are\n",
            "strong multicollinearity or other numerical problems.\n"
          ]
        },
        {
          "output_type": "stream",
          "name": "stderr",
          "text": [
            "/usr/local/lib/python3.9/dist-packages/scipy/stats/_stats_py.py:1736: UserWarning: kurtosistest only valid for n>=20 ... continuing anyway, n=9\n",
            "  warnings.warn(\"kurtosistest only valid for n>=20 ... continuing \"\n"
          ]
        }
      ]
    },
    {
      "cell_type": "code",
      "source": [
        "## Food\n",
        "\n",
        "can_foodx = can_food['REF_DATE']\n",
        "can_foody = can_food['VALUE']\n",
        "can_foodx = sm.add_constant(can_foodx)\n",
        "total_model_food = sm.OLS(can_foody, can_foodx).fit()\n",
        "print(total_model_food.summary())\n"
      ],
      "metadata": {
        "colab": {
          "base_uri": "https://localhost:8080/"
        },
        "id": "YrBbW1lntbeu",
        "outputId": "f2b207b9-ed1f-4285-acff-2e791e1ccdde"
      },
      "execution_count": null,
      "outputs": [
        {
          "output_type": "stream",
          "name": "stdout",
          "text": [
            "                            OLS Regression Results                            \n",
            "==============================================================================\n",
            "Dep. Variable:                  VALUE   R-squared:                       0.848\n",
            "Model:                            OLS   Adj. R-squared:                  0.826\n",
            "Method:                 Least Squares   F-statistic:                     39.06\n",
            "Date:                Sat, 15 Apr 2023   Prob (F-statistic):           0.000424\n",
            "Time:                        21:02:44   Log-Likelihood:                -64.269\n",
            "No. Observations:                   9   AIC:                             132.5\n",
            "Df Residuals:                       7   BIC:                             132.9\n",
            "Df Model:                           1                                         \n",
            "Covariance Type:            nonrobust                                         \n",
            "==============================================================================\n",
            "                 coef    std err          t      P>|t|      [0.025      0.975]\n",
            "------------------------------------------------------------------------------\n",
            "const      -5.169e+05   8.41e+04     -6.149      0.000   -7.16e+05   -3.18e+05\n",
            "REF_DATE     260.8468     41.738      6.250      0.000     162.152     359.542\n",
            "==============================================================================\n",
            "Omnibus:                        2.213   Durbin-Watson:                   1.144\n",
            "Prob(Omnibus):                  0.331   Jarque-Bera (JB):                1.362\n",
            "Skew:                           0.873   Prob(JB):                        0.506\n",
            "Kurtosis:                       2.235   Cond. No.                     1.47e+06\n",
            "==============================================================================\n",
            "\n",
            "Notes:\n",
            "[1] Standard Errors assume that the covariance matrix of the errors is correctly specified.\n",
            "[2] The condition number is large, 1.47e+06. This might indicate that there are\n",
            "strong multicollinearity or other numerical problems.\n"
          ]
        },
        {
          "output_type": "stream",
          "name": "stderr",
          "text": [
            "/usr/local/lib/python3.9/dist-packages/scipy/stats/_stats_py.py:1736: UserWarning: kurtosistest only valid for n>=20 ... continuing anyway, n=9\n",
            "  warnings.warn(\"kurtosistest only valid for n>=20 ... continuing \"\n"
          ]
        }
      ]
    },
    {
      "cell_type": "code",
      "source": [
        "## Shelter\n",
        "\n",
        "can_shelterx = can_shelter['REF_DATE']\n",
        "can_sheltery = can_shelter['VALUE']\n",
        "can_shelterx = sm.add_constant(can_shelterx)\n",
        "total_model_shelter = sm.OLS(can_sheltery, can_shelterx).fit()\n",
        "print(total_model_shelter.summary())"
      ],
      "metadata": {
        "colab": {
          "base_uri": "https://localhost:8080/"
        },
        "id": "pefEoVnEt0Bm",
        "outputId": "f0d6e2f7-01dd-4fd9-848a-7fc0af119859"
      },
      "execution_count": null,
      "outputs": [
        {
          "output_type": "stream",
          "name": "stdout",
          "text": [
            "                            OLS Regression Results                            \n",
            "==============================================================================\n",
            "Dep. Variable:                  VALUE   R-squared:                       0.989\n",
            "Model:                            OLS   Adj. R-squared:                  0.987\n",
            "Method:                 Least Squares   F-statistic:                     631.5\n",
            "Date:                Sat, 15 Apr 2023   Prob (F-statistic):           4.03e-08\n",
            "Time:                        21:02:48   Log-Likelihood:                -58.876\n",
            "No. Observations:                   9   AIC:                             121.8\n",
            "Df Residuals:                       7   BIC:                             122.1\n",
            "Df Model:                           1                                         \n",
            "Covariance Type:            nonrobust                                         \n",
            "==============================================================================\n",
            "                 coef    std err          t      P>|t|      [0.025      0.975]\n",
            "------------------------------------------------------------------------------\n",
            "const      -1.143e+06   4.62e+04    -24.759      0.000   -1.25e+06   -1.03e+06\n",
            "REF_DATE     576.1177     22.926     25.129      0.000     521.906     630.329\n",
            "==============================================================================\n",
            "Omnibus:                        2.345   Durbin-Watson:                   1.647\n",
            "Prob(Omnibus):                  0.310   Jarque-Bera (JB):                1.471\n",
            "Skew:                           0.844   Prob(JB):                        0.479\n",
            "Kurtosis:                       1.965   Cond. No.                     1.47e+06\n",
            "==============================================================================\n",
            "\n",
            "Notes:\n",
            "[1] Standard Errors assume that the covariance matrix of the errors is correctly specified.\n",
            "[2] The condition number is large, 1.47e+06. This might indicate that there are\n",
            "strong multicollinearity or other numerical problems.\n"
          ]
        },
        {
          "output_type": "stream",
          "name": "stderr",
          "text": [
            "/usr/local/lib/python3.9/dist-packages/scipy/stats/_stats_py.py:1736: UserWarning: kurtosistest only valid for n>=20 ... continuing anyway, n=9\n",
            "  warnings.warn(\"kurtosistest only valid for n>=20 ... continuing \"\n"
          ]
        }
      ]
    },
    {
      "cell_type": "code",
      "source": [
        "## Transportation\n",
        "\n",
        "can_transportx = can_transport['REF_DATE']\n",
        "can_transporty = can_transport['VALUE']\n",
        "can_transportx = sm.add_constant(can_transportx)\n",
        "total_model_transport = sm.OLS(can_transporty, can_transportx).fit()\n",
        "print(total_model_transport.summary())"
      ],
      "metadata": {
        "colab": {
          "base_uri": "https://localhost:8080/"
        },
        "id": "3qKkBi-5uDnx",
        "outputId": "1adf1d55-d824-4fb2-ffab-563fc8cf1940"
      },
      "execution_count": null,
      "outputs": [
        {
          "output_type": "stream",
          "name": "stdout",
          "text": [
            "                            OLS Regression Results                            \n",
            "==============================================================================\n",
            "Dep. Variable:                  VALUE   R-squared:                       0.825\n",
            "Model:                            OLS   Adj. R-squared:                  0.801\n",
            "Method:                 Least Squares   F-statistic:                     33.10\n",
            "Date:                Sat, 15 Apr 2023   Prob (F-statistic):           0.000696\n",
            "Time:                        21:02:51   Log-Likelihood:                -61.900\n",
            "No. Observations:                   9   AIC:                             127.8\n",
            "Df Residuals:                       7   BIC:                             128.2\n",
            "Df Model:                           1                                         \n",
            "Covariance Type:            nonrobust                                         \n",
            "==============================================================================\n",
            "                 coef    std err          t      P>|t|      [0.025      0.975]\n",
            "------------------------------------------------------------------------------\n",
            "const      -3.599e+05   6.46e+04     -5.570      0.001   -5.13e+05   -2.07e+05\n",
            "REF_DATE     184.5774     32.082      5.753      0.001     108.716     260.439\n",
            "==============================================================================\n",
            "Omnibus:                        0.643   Durbin-Watson:                   2.480\n",
            "Prob(Omnibus):                  0.725   Jarque-Bera (JB):                0.584\n",
            "Skew:                           0.338   Prob(JB):                        0.747\n",
            "Kurtosis:                       1.951   Cond. No.                     1.47e+06\n",
            "==============================================================================\n",
            "\n",
            "Notes:\n",
            "[1] Standard Errors assume that the covariance matrix of the errors is correctly specified.\n",
            "[2] The condition number is large, 1.47e+06. This might indicate that there are\n",
            "strong multicollinearity or other numerical problems.\n"
          ]
        },
        {
          "output_type": "stream",
          "name": "stderr",
          "text": [
            "/usr/local/lib/python3.9/dist-packages/scipy/stats/_stats_py.py:1736: UserWarning: kurtosistest only valid for n>=20 ... continuing anyway, n=9\n",
            "  warnings.warn(\"kurtosistest only valid for n>=20 ... continuing \"\n"
          ]
        }
      ]
    },
    {
      "cell_type": "code",
      "source": [
        "## Income Tax\n",
        "\n",
        "can_taxx = can_tax['REF_DATE']\n",
        "can_taxy = can_tax['VALUE']\n",
        "can_taxx = sm.add_constant(can_taxx)\n",
        "total_model_tax = sm.OLS(can_taxy, can_taxx).fit()\n",
        "print(total_model_tax.summary())"
      ],
      "metadata": {
        "colab": {
          "base_uri": "https://localhost:8080/"
        },
        "id": "p0hdgX1KuSn-",
        "outputId": "ae8b2739-bc34-4c13-ff19-f0efe1fffabb"
      },
      "execution_count": null,
      "outputs": [
        {
          "output_type": "stream",
          "name": "stdout",
          "text": [
            "                            OLS Regression Results                            \n",
            "==============================================================================\n",
            "Dep. Variable:                  VALUE   R-squared:                       0.936\n",
            "Model:                            OLS   Adj. R-squared:                  0.927\n",
            "Method:                 Least Squares   F-statistic:                     102.1\n",
            "Date:                Sat, 15 Apr 2023   Prob (F-statistic):           2.00e-05\n",
            "Time:                        21:02:53   Log-Likelihood:                -65.956\n",
            "No. Observations:                   9   AIC:                             135.9\n",
            "Df Residuals:                       7   BIC:                             136.3\n",
            "Df Model:                           1                                         \n",
            "Covariance Type:            nonrobust                                         \n",
            "==============================================================================\n",
            "                 coef    std err          t      P>|t|      [0.025      0.975]\n",
            "------------------------------------------------------------------------------\n",
            "const       -1.01e+06   1.01e+05     -9.962      0.000   -1.25e+06    -7.7e+05\n",
            "REF_DATE     508.7516     50.348     10.105      0.000     389.698     627.805\n",
            "==============================================================================\n",
            "Omnibus:                        1.733   Durbin-Watson:                   1.718\n",
            "Prob(Omnibus):                  0.420   Jarque-Bera (JB):                0.669\n",
            "Skew:                          -0.658   Prob(JB):                        0.716\n",
            "Kurtosis:                       2.771   Cond. No.                     1.47e+06\n",
            "==============================================================================\n",
            "\n",
            "Notes:\n",
            "[1] Standard Errors assume that the covariance matrix of the errors is correctly specified.\n",
            "[2] The condition number is large, 1.47e+06. This might indicate that there are\n",
            "strong multicollinearity or other numerical problems.\n"
          ]
        },
        {
          "output_type": "stream",
          "name": "stderr",
          "text": [
            "/usr/local/lib/python3.9/dist-packages/scipy/stats/_stats_py.py:1736: UserWarning: kurtosistest only valid for n>=20 ... continuing anyway, n=9\n",
            "  warnings.warn(\"kurtosistest only valid for n>=20 ... continuing \"\n"
          ]
        }
      ]
    },
    {
      "cell_type": "markdown",
      "source": [
        "Conclusion"
      ],
      "metadata": {
        "id": "Irvct8-VAIYe"
      }
    },
    {
      "cell_type": "markdown",
      "source": [
        "Summary"
      ],
      "metadata": {
        "id": "QbN8H5-WAJgV"
      }
    },
    {
      "cell_type": "markdown",
      "source": [],
      "metadata": {
        "id": "KZ1hCa1LAKjJ"
      }
    }
  ]
}